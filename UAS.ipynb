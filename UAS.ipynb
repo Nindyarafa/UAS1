{
  "nbformat": 4,
  "nbformat_minor": 0,
  "metadata": {
    "colab": {
      "name": "UAS.ipynb",
      "provenance": [],
      "collapsed_sections": []
    },
    "kernelspec": {
      "name": "python3",
      "display_name": "Python 3"
    }
  },
  "cells": [
    {
      "cell_type": "code",
      "metadata": {
        "id": "X5UlbKAIqwOl"
      },
      "source": [
        "from sklearn import tree"
      ],
      "execution_count": null,
      "outputs": []
    },
    {
      "cell_type": "code",
      "metadata": {
        "id": "o5hPti-xyMRZ"
      },
      "source": [
        "clf = tree.DecisionTreeClassifier()"
      ],
      "execution_count": null,
      "outputs": []
    },
    {
      "cell_type": "code",
      "metadata": {
        "id": "2UgpkL4CyQ5a",
        "outputId": "5d86077e-9de3-458f-9b7f-e9f1f93cf488",
        "colab": {
          "base_uri": "https://localhost:8080/"
        }
      },
      "source": [
        "X = [[181, 80, 44], [177, 70, 43], [160, 60, 38], [154, 54, 37], [166, 65, 40], [190, 90, 47], [175, 64, 39], \n",
        "     [177, 70, 40], [159, 55, 37], [171, 75, 42], [181, 85, 43] ]\n",
        "X\n"
      ],
      "execution_count": 7,
      "outputs": [
        {
          "output_type": "execute_result",
          "data": {
            "text/plain": [
              "[[181, 80, 44],\n",
              " [177, 70, 43],\n",
              " [160, 60, 38],\n",
              " [154, 54, 37],\n",
              " [166, 65, 40],\n",
              " [190, 90, 47],\n",
              " [175, 64, 39],\n",
              " [177, 70, 40],\n",
              " [159, 55, 37],\n",
              " [171, 75, 42],\n",
              " [181, 85, 43]]"
            ]
          },
          "metadata": {
            "tags": []
          },
          "execution_count": 7
        }
      ]
    },
    {
      "cell_type": "code",
      "metadata": {
        "id": "L8P93-Ijz9SU",
        "outputId": "b82bd725-047a-4f1e-e0d6-c9ab0f518b4a",
        "colab": {
          "base_uri": "https://localhost:8080/"
        }
      },
      "source": [
        "Y = ['male', 'male', 'female', 'female', 'male', 'male', 'female', 'female', 'female', 'male', 'male']\n",
        "Y "
      ],
      "execution_count": 8,
      "outputs": [
        {
          "output_type": "execute_result",
          "data": {
            "text/plain": [
              "['male',\n",
              " 'male',\n",
              " 'female',\n",
              " 'female',\n",
              " 'male',\n",
              " 'male',\n",
              " 'female',\n",
              " 'female',\n",
              " 'female',\n",
              " 'male',\n",
              " 'male']"
            ]
          },
          "metadata": {
            "tags": []
          },
          "execution_count": 8
        }
      ]
    },
    {
      "cell_type": "code",
      "metadata": {
        "id": "Z7IDyU6c2VdL"
      },
      "source": [
        "clf = clf.fit(X,Y)"
      ],
      "execution_count": 16,
      "outputs": []
    },
    {
      "cell_type": "code",
      "metadata": {
        "id": "GIAis77M2Zxj",
        "outputId": "1b2bf382-8b7a-4b20-8432-af9a98c2176e",
        "colab": {
          "base_uri": "https://localhost:8080/"
        }
      },
      "source": [
        "prediction = clf.predict([[150, 45, 22]])\n",
        "print(prediction)"
      ],
      "execution_count": 17,
      "outputs": [
        {
          "output_type": "stream",
          "text": [
            "['female']\n"
          ],
          "name": "stdout"
        }
      ]
    }
  ]
}